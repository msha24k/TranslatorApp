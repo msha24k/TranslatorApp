{
 "cells": [
  {
   "cell_type": "code",
   "execution_count": 1,
   "id": "2b1dd472",
   "metadata": {},
   "outputs": [
    {
     "name": "stdout",
     "output_type": "stream",
     "text": [
      "Requirement already satisfied: googletrans==4.0.0-rc1 in c:\\users\\manis\\appdata\\local\\packages\\pythonsoftwarefoundation.python.3.10_qbz5n2kfra8p0\\localcache\\local-packages\\python310\\site-packages (4.0.0rc1)\n",
      "Requirement already satisfied: httpx==0.13.3 in c:\\users\\manis\\appdata\\local\\packages\\pythonsoftwarefoundation.python.3.10_qbz5n2kfra8p0\\localcache\\local-packages\\python310\\site-packages (from googletrans==4.0.0-rc1) (0.13.3)\n",
      "Requirement already satisfied: certifi in c:\\users\\manis\\appdata\\local\\packages\\pythonsoftwarefoundation.python.3.10_qbz5n2kfra8p0\\localcache\\local-packages\\python310\\site-packages (from httpx==0.13.3->googletrans==4.0.0-rc1) (2023.5.7)\n",
      "Requirement already satisfied: idna==2.* in c:\\users\\manis\\appdata\\local\\packages\\pythonsoftwarefoundation.python.3.10_qbz5n2kfra8p0\\localcache\\local-packages\\python310\\site-packages (from httpx==0.13.3->googletrans==4.0.0-rc1) (2.10)\n",
      "Requirement already satisfied: chardet==3.* in c:\\users\\manis\\appdata\\local\\packages\\pythonsoftwarefoundation.python.3.10_qbz5n2kfra8p0\\localcache\\local-packages\\python310\\site-packages (from httpx==0.13.3->googletrans==4.0.0-rc1) (3.0.4)\n",
      "Requirement already satisfied: httpcore==0.9.* in c:\\users\\manis\\appdata\\local\\packages\\pythonsoftwarefoundation.python.3.10_qbz5n2kfra8p0\\localcache\\local-packages\\python310\\site-packages (from httpx==0.13.3->googletrans==4.0.0-rc1) (0.9.1)\n",
      "Requirement already satisfied: sniffio in c:\\users\\manis\\appdata\\local\\packages\\pythonsoftwarefoundation.python.3.10_qbz5n2kfra8p0\\localcache\\local-packages\\python310\\site-packages (from httpx==0.13.3->googletrans==4.0.0-rc1) (1.3.0)\n",
      "Requirement already satisfied: hstspreload in c:\\users\\manis\\appdata\\local\\packages\\pythonsoftwarefoundation.python.3.10_qbz5n2kfra8p0\\localcache\\local-packages\\python310\\site-packages (from httpx==0.13.3->googletrans==4.0.0-rc1) (2023.1.1)\n",
      "Requirement already satisfied: rfc3986<2,>=1.3 in c:\\users\\manis\\appdata\\local\\packages\\pythonsoftwarefoundation.python.3.10_qbz5n2kfra8p0\\localcache\\local-packages\\python310\\site-packages (from httpx==0.13.3->googletrans==4.0.0-rc1) (1.5.0)\n",
      "Requirement already satisfied: h2==3.* in c:\\users\\manis\\appdata\\local\\packages\\pythonsoftwarefoundation.python.3.10_qbz5n2kfra8p0\\localcache\\local-packages\\python310\\site-packages (from httpcore==0.9.*->httpx==0.13.3->googletrans==4.0.0-rc1) (3.2.0)\n",
      "Requirement already satisfied: h11<0.10,>=0.8 in c:\\users\\manis\\appdata\\local\\packages\\pythonsoftwarefoundation.python.3.10_qbz5n2kfra8p0\\localcache\\local-packages\\python310\\site-packages (from httpcore==0.9.*->httpx==0.13.3->googletrans==4.0.0-rc1) (0.9.0)\n",
      "Requirement already satisfied: hpack<4,>=3.0 in c:\\users\\manis\\appdata\\local\\packages\\pythonsoftwarefoundation.python.3.10_qbz5n2kfra8p0\\localcache\\local-packages\\python310\\site-packages (from h2==3.*->httpcore==0.9.*->httpx==0.13.3->googletrans==4.0.0-rc1) (3.0.0)\n",
      "Requirement already satisfied: hyperframe<6,>=5.2.0 in c:\\users\\manis\\appdata\\local\\packages\\pythonsoftwarefoundation.python.3.10_qbz5n2kfra8p0\\localcache\\local-packages\\python310\\site-packages (from h2==3.*->httpcore==0.9.*->httpx==0.13.3->googletrans==4.0.0-rc1) (5.2.0)\n",
      "Note: you may need to restart the kernel to use updated packages.\n"
     ]
    },
    {
     "name": "stderr",
     "output_type": "stream",
     "text": [
      "\n",
      "[notice] A new release of pip is available: 23.0.1 -> 23.1.2\n",
      "[notice] To update, run: C:\\Users\\manis\\AppData\\Local\\Microsoft\\WindowsApps\\PythonSoftwareFoundation.Python.3.10_qbz5n2kfra8p0\\python.exe -m pip install --upgrade pip\n"
     ]
    }
   ],
   "source": [
    "pip install googletrans==4.0.0-rc1"
   ]
  },
  {
   "cell_type": "code",
   "execution_count": 2,
   "id": "553f7382",
   "metadata": {},
   "outputs": [
    {
     "name": "stdout",
     "output_type": "stream",
     "text": [
      "Please input desired language code. To see the language code list enter 'options' \n",
      "options\n",
      "Code : Language\n",
      "bn => Bangla\n",
      "en => English\n",
      "ko => Koren\n",
      "fr => French\n",
      "de => German\n",
      "he => Hebrew\n",
      "hi => Hindi\n",
      "it => Italian\n",
      "ja => Japanese\n",
      "la => Latin\n",
      "ms => Malay\n",
      "ne => Nepali\n",
      "ru => Russian\n",
      "ar => Arabic\n",
      "zh => Chinese\n",
      "es => Spanish\n",
      "\n",
      "Please input desired language code. To see the language code list enter 'options' \n",
      "hi\n",
      "You have selected Hindi\n",
      "\n",
      "Write the text you want to translate: \n",
      "To exit the program write 'close'\n",
      "close\n",
      "\n",
      "Have a nice Day!\n"
     ]
    }
   ],
   "source": [
    "from googletrans import Translator\n",
    " \n",
    "translator = Translator()\n",
    " \n",
    "language = {\"bn\": \"Bangla\",\n",
    "            \"en\": \"English\",\n",
    "            \"ko\": \"Koren\",\n",
    "            \"fr\": \"French\",\n",
    "            \"de\": \"German\",\n",
    "            \"he\": \"Hebrew\",\n",
    "            \"hi\": \"Hindi\",\n",
    "            \"it\": \"Italian\",\n",
    "            \"ja\": \"Japanese\",\n",
    "            'la': \"Latin\",\n",
    "            \"ms\": \"Malay\",\n",
    "            \"ne\": \"Nepali\",\n",
    "            \"ru\": \"Russian\",\n",
    "            \"ar\": \"Arabic\",\n",
    "            \"zh\": \"Chinese\",\n",
    "            \"es\": \"Spanish\"\n",
    "            }\n",
    " \n",
    "allow = True  # variable to control correct language code input\n",
    " \n",
    "while allow:  # checking if language code is valid\n",
    " \n",
    "    user_code = input(\n",
    "        f\"Please input desired language code. To see the language code list enter 'options' \\n\")\n",
    " \n",
    "    if user_code == \"options\":  # showing language options\n",
    "        print(\"Code : Language\")  # Heading of language option menu\n",
    "        for i in language.items():\n",
    "            print(f\"{i[0]} => {i[1]}\")\n",
    "        print()  # adding an empty space\n",
    " \n",
    "    else:  # validating user input\n",
    "        for lan_code in language.keys():\n",
    "            if lan_code == user_code:\n",
    "                print(f\"You have selected {language[lan_code]}\")\n",
    "                allow = False\n",
    "        if allow:\n",
    "            print(\"It's not a valid language code!\")\n",
    " \n",
    "while True:  # starting translation loop\n",
    "    string = input(\n",
    "        \"\\nWrite the text you want to translate: \\nTo exit the program write 'close'\\n\")\n",
    " \n",
    "    if string == \"close\":  # exit program command\n",
    "        print(f\"\\nHave a nice Day!\")\n",
    "        break\n",
    " \n",
    "    # translating method from googletrans\n",
    "    translated = translator.translate(string, dest=user_code)\n",
    " \n",
    "    # printing translation\n",
    "    print(f\"\\n{language[user_code]} translation: {translated.text}\")\n",
    "    # printing pronunciation\n",
    "    print(f\"Pronunciation : {translated.pronunciation}\")\n",
    " \n",
    "    for i in language.items():  # checking if the source language is listed on language dict and printing it\n",
    "        if translated.src == i[0]:\n",
    "            print(f\"Translated from : {i[1]}\")"
   ]
  },
  {
   "cell_type": "code",
   "execution_count": null,
   "id": "769871c0",
   "metadata": {},
   "outputs": [],
   "source": []
  }
 ],
 "metadata": {
  "kernelspec": {
   "display_name": "Python 3 (ipykernel)",
   "language": "python",
   "name": "python3"
  },
  "language_info": {
   "codemirror_mode": {
    "name": "ipython",
    "version": 3
   },
   "file_extension": ".py",
   "mimetype": "text/x-python",
   "name": "python",
   "nbconvert_exporter": "python",
   "pygments_lexer": "ipython3",
   "version": "3.10.11"
  }
 },
 "nbformat": 4,
 "nbformat_minor": 5
}
